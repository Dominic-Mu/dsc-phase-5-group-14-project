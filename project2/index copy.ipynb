{
 "cells": [
  {
   "cell_type": "markdown",
   "metadata": {},
   "source": [
    "# IntelligentStocks: Personalized Portfolio Recommender\n"
   ]
  },
  {
   "cell_type": "markdown",
   "metadata": {},
   "source": [
    "**Authors**: [Alpha Guya](mailto:alpha.guya@student.moringaschool.com), [Ben Ochoro](mailto:ben.ochoro@student.moringaschool.com), [Caleb Ochieng](mailto:caleb.ochieng@student.moringaschool.com), [Christine Mukiri](mailto:christine.mukiri@student.moringaschool.com), [Dominic Muli](mailto:dominic.muli@student.moringaschool.com), [Frank Mandele](mailto:frank.mandele@student.moringaschool.com), [Jacquiline Tulinye](mailto:jacquiline.tulinye@student.moringaschool.com) and [Lesley Wanjiku](mailto:lesley.wanjiku@student.moringaschool.com)"
   ]
  },
  {
   "cell_type": "markdown",
   "metadata": {},
   "source": [
    "## 1.0) Project Overview"
   ]
  },
  {
   "cell_type": "markdown",
   "metadata": {},
   "source": [
    "The aim of the project is to develop an advanced, data-driven stock portfolio recommendation system that assists investors in making informed investment decisions. By leveraging historical stock data, market trends, and user preferences, the system aims to recommend diversified and optimized portfolios tailored to individual investors' risk tolerance, investment goals, and time horizons."
   ]
  },
  {
   "cell_type": "markdown",
   "metadata": {},
   "source": [
    "## 1.1) Business Problem"
   ]
  },
  {
   "cell_type": "markdown",
   "metadata": {},
   "source": [
    "Investment decision-making often lacks informed insights and systematic analysis, leading to suboptimal portfolio construction and missed opportunities for investors. The challenge lies in providing a reliable and personalized stock portfolio recommendation system that leverages historical data, market trends, and risk preferences to assist investors in making well-informed and diversified investment choices. This system aims to mitigate risks, maximize returns, and offer tailored investment strategies aligned with individual investors' goals and risk appetites. The business seeks to develop an intelligent platform that optimizes portfolio selection, enhances decision-making, and empowers investors to achieve their financial objectives efficiently in a dynamic market environment."
   ]
  },
  {
   "cell_type": "markdown",
   "metadata": {},
   "source": [
    "## 1.2) Objectives"
   ]
  },
  {
   "cell_type": "markdown",
   "metadata": {},
   "source": []
  },
  {
   "cell_type": "markdown",
   "metadata": {},
   "source": [
    "## 1.3) Metric of Success"
   ]
  },
  {
   "cell_type": "markdown",
   "metadata": {},
   "source": []
  },
  {
   "cell_type": "markdown",
   "metadata": {},
   "source": [
    "## 1.4) Data Relevance and Validation"
   ]
  },
  {
   "cell_type": "markdown",
   "metadata": {},
   "source": [
    "The data available is relevant for the intended analysis and predictions"
   ]
  },
  {
   "cell_type": "markdown",
   "metadata": {},
   "source": [
    "## 2.0) Understanding the Data"
   ]
  },
  {
   "cell_type": "markdown",
   "metadata": {},
   "source": [
    "The data for this project is obtained from the [Yahoo Finance website](https://finance.yahoo.com/)."
   ]
  },
  {
   "cell_type": "markdown",
   "metadata": {},
   "source": [
    "## 2.1) Reading the Data"
   ]
  },
  {
   "cell_type": "markdown",
   "metadata": {},
   "source": [
    "### 2.1.1) Installations"
   ]
  },
  {
   "cell_type": "code",
   "execution_count": 1,
   "metadata": {},
   "outputs": [
    {
     "name": "stdout",
     "output_type": "stream",
     "text": [
      "Requirement already satisfied: yfinance in c:\\users\\dominc\\anaconda3\\envs\\learn-env\\lib\\site-packages (0.2.33)\n",
      "Requirement already satisfied: peewee>=3.16.2 in c:\\users\\dominc\\anaconda3\\envs\\learn-env\\lib\\site-packages (from yfinance) (3.17.0)\n",
      "Requirement already satisfied: numpy>=1.16.5 in c:\\users\\dominc\\anaconda3\\envs\\learn-env\\lib\\site-packages (from yfinance) (1.23.5)\n",
      "Requirement already satisfied: appdirs>=1.4.4 in c:\\users\\dominc\\anaconda3\\envs\\learn-env\\lib\\site-packages (from yfinance) (1.4.4)\n",
      "Requirement already satisfied: multitasking>=0.0.7 in c:\\users\\dominc\\anaconda3\\envs\\learn-env\\lib\\site-packages (from yfinance) (0.0.11)\n",
      "Requirement already satisfied: beautifulsoup4>=4.11.1 in c:\\users\\dominc\\anaconda3\\envs\\learn-env\\lib\\site-packages (from yfinance) (4.12.2)\n",
      "Requirement already satisfied: frozendict>=2.3.4 in c:\\users\\dominc\\anaconda3\\envs\\learn-env\\lib\\site-packages (from yfinance) (2.3.10)\n",
      "Requirement already satisfied: requests>=2.31 in c:\\users\\dominc\\anaconda3\\envs\\learn-env\\lib\\site-packages (from yfinance) (2.31.0)\n",
      "Requirement already satisfied: pytz>=2022.5 in c:\\users\\dominc\\anaconda3\\envs\\learn-env\\lib\\site-packages (from yfinance) (2023.3.post1)\n",
      "Requirement already satisfied: lxml>=4.9.1 in c:\\users\\dominc\\anaconda3\\envs\\learn-env\\lib\\site-packages (from yfinance) (4.9.4)\n",
      "Requirement already satisfied: pandas>=1.3.0 in c:\\users\\dominc\\anaconda3\\envs\\learn-env\\lib\\site-packages (from yfinance) (2.0.3)\n",
      "Requirement already satisfied: html5lib>=1.1 in c:\\users\\dominc\\anaconda3\\envs\\learn-env\\lib\\site-packages (from yfinance) (1.1)\n",
      "Requirement already satisfied: soupsieve>1.2 in c:\\users\\dominc\\anaconda3\\envs\\learn-env\\lib\\site-packages (from beautifulsoup4>=4.11.1->yfinance) (2.0.1)\n",
      "Requirement already satisfied: charset-normalizer<4,>=2 in c:\\users\\dominc\\anaconda3\\envs\\learn-env\\lib\\site-packages (from requests>=2.31->yfinance) (3.3.2)\n",
      "Requirement already satisfied: idna<4,>=2.5 in c:\\users\\dominc\\anaconda3\\envs\\learn-env\\lib\\site-packages (from requests>=2.31->yfinance) (2.10)\n",
      "Requirement already satisfied: certifi>=2017.4.17 in c:\\users\\dominc\\anaconda3\\envs\\learn-env\\lib\\site-packages (from requests>=2.31->yfinance) (2020.6.20)\n",
      "Requirement already satisfied: urllib3<3,>=1.21.1 in c:\\users\\dominc\\anaconda3\\envs\\learn-env\\lib\\site-packages (from requests>=2.31->yfinance) (1.25.10)\n",
      "Requirement already satisfied: python-dateutil>=2.8.2 in c:\\users\\dominc\\anaconda3\\envs\\learn-env\\lib\\site-packages (from pandas>=1.3.0->yfinance) (2.8.2)\n",
      "Requirement already satisfied: tzdata>=2022.1 in c:\\users\\dominc\\anaconda3\\envs\\learn-env\\lib\\site-packages (from pandas>=1.3.0->yfinance) (2023.3)\n",
      "Requirement already satisfied: six>=1.9 in c:\\users\\dominc\\anaconda3\\envs\\learn-env\\lib\\site-packages (from html5lib>=1.1->yfinance) (1.15.0)\n",
      "Requirement already satisfied: webencodings in c:\\users\\dominc\\anaconda3\\envs\\learn-env\\lib\\site-packages (from html5lib>=1.1->yfinance) (0.5.1)\n",
      "Note: you may need to restart the kernel to use updated packages.\n"
     ]
    }
   ],
   "source": [
    "# installations\n",
    "%pip install yfinance"
   ]
  },
  {
   "cell_type": "markdown",
   "metadata": {},
   "source": [
    "### 2.1.2) Importing Relevant Libraries"
   ]
  },
  {
   "cell_type": "code",
   "execution_count": 4,
   "metadata": {},
   "outputs": [],
   "source": [
    "# importing necessary libraries\n",
    "import requests, json\n",
    "import urllib\n",
    "import urllib.request\n",
    "import urllib.error\n",
    "import pandas as pd\n",
    "import yfinance as yf\n",
    "from datetime import datetime, timedelta"
   ]
  },
  {
   "cell_type": "markdown",
   "metadata": {},
   "source": [
    "### 2.1.3) Reading the Data"
   ]
  },
  {
   "cell_type": "code",
   "execution_count": 7,
   "metadata": {},
   "outputs": [
    {
     "name": "stdout",
     "output_type": "stream",
     "text": [
      "[*********************100%%**********************]  1 of 1 completed\n",
      "                  Open        High         Low       Close   Adj Close  \\\n",
      "Date                                                                     \n",
      "2023-12-14  198.020004  199.619995  196.160004  198.110001  198.110001   \n",
      "2023-12-15  197.529999  198.399994  197.000000  197.570007  197.570007   \n",
      "2023-12-18  196.089996  196.630005  194.389999  195.889999  195.889999   \n",
      "2023-12-19  196.160004  196.949997  195.889999  196.940002  196.940002   \n",
      "2023-12-20  196.899994  197.679993  194.830002  194.830002  194.830002   \n",
      "\n",
      "               Volume  \n",
      "Date                   \n",
      "2023-12-14   66831600  \n",
      "2023-12-15  128256700  \n",
      "2023-12-18   55751900  \n",
      "2023-12-19   40714100  \n",
      "2023-12-20   52242800  \n"
     ]
    }
   ],
   "source": [
    "ticker_symbol = 'AAPL'\n",
    "\n",
    "# Setting the start and end dates for the data\n",
    "start_date = '1985-01-01'\n",
    "end_date = (datetime.now() - timedelta(days=1)).strftime('%Y-%m-%d')\n",
    "\n",
    "# Fetching the data\n",
    "stock_data = yf.download(ticker_symbol, start=start_date, end=end_date)\n",
    "\n",
    "# Printing the retrieved data\n",
    "print(stock_data.tail())\n"
   ]
  },
  {
   "cell_type": "markdown",
   "metadata": {},
   "source": [
    "## 2.2) Data Cleaning"
   ]
  },
  {
   "cell_type": "code",
   "execution_count": null,
   "metadata": {},
   "outputs": [],
   "source": []
  },
  {
   "cell_type": "markdown",
   "metadata": {},
   "source": [
    "## 2.3) EDA"
   ]
  },
  {
   "cell_type": "code",
   "execution_count": null,
   "metadata": {},
   "outputs": [],
   "source": []
  },
  {
   "cell_type": "markdown",
   "metadata": {},
   "source": [
    "## 2.4) Building Model"
   ]
  },
  {
   "cell_type": "code",
   "execution_count": null,
   "metadata": {},
   "outputs": [],
   "source": []
  },
  {
   "cell_type": "markdown",
   "metadata": {},
   "source": [
    "## 2.5) Conclusion"
   ]
  },
  {
   "cell_type": "markdown",
   "metadata": {},
   "source": []
  },
  {
   "cell_type": "markdown",
   "metadata": {},
   "source": [
    "## 2.6) Recommendation"
   ]
  },
  {
   "cell_type": "markdown",
   "metadata": {},
   "source": []
  },
  {
   "cell_type": "markdown",
   "metadata": {},
   "source": [
    "## 2.7) Model Deployment"
   ]
  },
  {
   "cell_type": "code",
   "execution_count": null,
   "metadata": {},
   "outputs": [],
   "source": []
  }
 ],
 "metadata": {
  "kernelspec": {
   "display_name": "Python 3",
   "language": "python",
   "name": "python3"
  },
  "language_info": {
   "codemirror_mode": {
    "name": "ipython",
    "version": 3
   },
   "file_extension": ".py",
   "mimetype": "text/x-python",
   "name": "python",
   "nbconvert_exporter": "python",
   "pygments_lexer": "ipython3",
   "version": "3.8.5"
  }
 },
 "nbformat": 4,
 "nbformat_minor": 2
}
